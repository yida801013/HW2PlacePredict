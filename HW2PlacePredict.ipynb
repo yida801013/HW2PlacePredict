{
 "cells": [
  {
   "cell_type": "code",
   "execution_count": 1,
   "metadata": {},
   "outputs": [
    {
     "name": "stderr",
     "output_type": "stream",
     "text": [
      "Using TensorFlow backend.\n"
     ]
    },
    {
     "name": "stdout",
     "output_type": "stream",
     "text": [
      "Found 2985 images belonging to 15 classes.\n"
     ]
    }
   ],
   "source": [
    "from keras.preprocessing.image import ImageDataGenerator  # 引入用來擴增資料的類別\n",
    "train_dir = \"./train\"  # 訓練資料放置的資料夾\n",
    "# 再來是決定要對圖片做怎樣的變化，有旋轉、位移等各種參數可以調整\n",
    "train_datagen = ImageDataGenerator(rescale=1/255,rotation_range=40,width_shift_range=0.2,\\\n",
    "                                   height_shift_range=0.2,shear_range=0.2,zoom_range=0.2,horizontal_flip=True)\n",
    "# 最後是選擇從哪個資料夾拿圖片，還有決定圖片 size、batch_size 等\n",
    "train_generator = train_datagen.flow_from_directory(train_dir, target_size=(150,150),batch_size=64,\\\n",
    "                                                    class_mode=\"categorical\")"
   ]
  },
  {
   "cell_type": "code",
   "execution_count": 2,
   "metadata": {},
   "outputs": [
    {
     "name": "stdout",
     "output_type": "stream",
     "text": [
      "Epoch 1/10\n",
      "100/100 [==============================] - 4317s 43s/step - loss: 1.5119 - acc: 0.5438\n",
      "Epoch 2/10\n",
      "100/100 [==============================] - 4241s 42s/step - loss: 0.8786 - acc: 0.7480\n",
      "Epoch 3/10\n",
      "100/100 [==============================] - 4236s 42s/step - loss: 0.6607 - acc: 0.8102\n",
      "Epoch 4/10\n",
      "100/100 [==============================] - 4220s 42s/step - loss: 0.6286 - acc: 0.8182\n",
      "Epoch 5/10\n",
      "100/100 [==============================] - 4237s 42s/step - loss: 0.5270 - acc: 0.8513\n",
      "Epoch 6/10\n",
      "100/100 [==============================] - 4236s 42s/step - loss: 0.4577 - acc: 0.8731\n",
      "Epoch 7/10\n",
      "100/100 [==============================] - 4238s 42s/step - loss: 0.3816 - acc: 0.8913\n",
      "Epoch 8/10\n",
      "100/100 [==============================] - 4230s 42s/step - loss: 0.3623 - acc: 0.9038\n",
      "Epoch 9/10\n",
      "100/100 [==============================] - 4233s 42s/step - loss: 0.3606 - acc: 0.9025\n",
      "Epoch 10/10\n",
      "100/100 [==============================] - 4238s 42s/step - loss: 0.3558 - acc: 0.9060\n"
     ]
    },
    {
     "data": {
      "text/plain": [
       "<keras.callbacks.History at 0x1880a6f0f60>"
      ]
     },
     "execution_count": 2,
     "metadata": {},
     "output_type": "execute_result"
    }
   ],
   "source": [
    "from keras.applications import Xception  #引入 Xception 的類別\n",
    "from keras import models\n",
    "from keras import layers\n",
    "conv_base = Xception(weights=\"imagenet\",include_top=False,input_shape=(150,150,3)) # 架 Xception\n",
    "model = models.Sequential() # 建一個空的模型\n",
    "model.add(conv_base) # 把前面架好的 Xception 放進模型\n",
    "model.add(layers.Flatten()) # 把 Xception 抽取出的圖片特徵攤平\n",
    "model.add(layers.Dense(256,activation=\"relu\",kernel_initializer='random_normal')) # 再來就是通過幾層 Dense 來做分類\n",
    "model.add(layers.Dropout(0.3)) # 加 Dropout 避免 overfitting\n",
    "model.add(layers.Dense(128,activation=\"relu\",kernel_initializer='random_normal'))\n",
    "model.add(layers.Dropout(0.3))\n",
    "model.add(layers.Dense(15,activation=\"softmax\",kernel_initializer='random_normal'))\n",
    "model.compile(loss=\"categorical_crossentropy\",optimizer=\"adam\",metrics=[\"acc\"])\n",
    "model.fit_generator(train_generator,steps_per_epoch=100,epochs=10) # 用前面建好的 generator 做訓練"
   ]
  },
  {
   "cell_type": "code",
   "execution_count": 4,
   "metadata": {},
   "outputs": [],
   "source": [
    "import pandas\n",
    "import os\n",
    "from keras.preprocessing import image # 引入讀取圖片用的類別\n",
    "id_list = [] # 用來存圖片檔名\n",
    "class_list = [] # 用來存分類結果\n",
    "test_dir = \"./dataset\" # 測試資料放置的資料夾\n",
    "submission_example = pandas.read_csv(\"img-submission.csv\",header=0)\n",
    "submission_example=submission_example[\"id\"]\n",
    "for i in submission_example:\n",
    "  i=i+\".jpg\"\n",
    "  file_name = os.path.join(test_dir,i)\n",
    "  img = image.load_img(file_name,target_size=(150, 150)) # 讀取圖片並調整 size\n",
    "  img_array = image.img_to_array(img) # 將圖片轉成陣列\n",
    "  img_array = img_array/255 # 跟訓練資料一樣做 rescale\n",
    "  img_array = img_array.reshape((1,)+img_array.shape) # reshape 成模型能吃的形狀\n",
    "  class_predict = model.predict_classes(img_array) # 對圖片做類別預測\n",
    "  id_list.append(i[:-4]) # 把圖片檔名後的 .jpg 拿掉\n",
    "  class_list.append(class_predict[0])\n",
    "submission = pandas.DataFrame({\"id\":id_list,\"class\":class_list}) # 建 DataFrame 存放結果\n",
    "submission.to_csv(\"./result.csv\",index = False, columns = [\"id\",\"class\"]) # 輸出結果到 csv 檔"
   ]
  },
  {
   "cell_type": "code",
   "execution_count": null,
   "metadata": {},
   "outputs": [],
   "source": []
  }
 ],
 "metadata": {
  "kernelspec": {
   "display_name": "Python 3",
   "language": "python",
   "name": "python3"
  },
  "language_info": {
   "codemirror_mode": {
    "name": "ipython",
    "version": 3
   },
   "file_extension": ".py",
   "mimetype": "text/x-python",
   "name": "python",
   "nbconvert_exporter": "python",
   "pygments_lexer": "ipython3",
   "version": "3.5.5"
  },
  "widgets": {
   "state": {},
   "version": "1.1.2"
  }
 },
 "nbformat": 4,
 "nbformat_minor": 2
}
